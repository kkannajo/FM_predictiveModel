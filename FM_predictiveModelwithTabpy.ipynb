{
 "cells": [
  {
   "cell_type": "markdown",
   "id": "6106b937",
   "metadata": {},
   "source": [
    "# Predictive Model with Tabpy"
   ]
  },
  {
   "cell_type": "markdown",
   "id": "6b28eb61",
   "metadata": {},
   "source": [
    "**Goal:** Predict how much space we need where (exisiting buildings and new facilities) and by department. "
   ]
  },
  {
   "cell_type": "markdown",
   "id": "31e8a898",
   "metadata": {},
   "source": [
    "## Install Tabpy"
   ]
  },
  {
   "cell_type": "code",
   "execution_count": 1,
   "id": "bee0cc76",
   "metadata": {},
   "outputs": [
    {
     "name": "stdout",
     "output_type": "stream",
     "text": [
      "Requirement already satisfied: tabpy in /usr/local/python/3.12.1/lib/python3.12/site-packages (2.13.0)\n",
      "Requirement already satisfied: cloudpickle in /usr/local/python/3.12.1/lib/python3.12/site-packages (from tabpy) (3.1.1)\n",
      "Requirement already satisfied: configparser in /usr/local/python/3.12.1/lib/python3.12/site-packages (from tabpy) (7.2.0)\n",
      "Requirement already satisfied: coverage in /usr/local/python/3.12.1/lib/python3.12/site-packages (from tabpy) (7.10.6)\n",
      "Requirement already satisfied: coveralls in /usr/local/python/3.12.1/lib/python3.12/site-packages (from tabpy) (4.0.1)\n",
      "Requirement already satisfied: docopt in /usr/local/python/3.12.1/lib/python3.12/site-packages (from tabpy) (0.6.2)\n",
      "Requirement already satisfied: future in /usr/local/python/3.12.1/lib/python3.12/site-packages (from tabpy) (1.0.0)\n",
      "Requirement already satisfied: genson in /usr/local/python/3.12.1/lib/python3.12/site-packages (from tabpy) (1.3.0)\n",
      "Requirement already satisfied: hypothesis in /usr/local/python/3.12.1/lib/python3.12/site-packages (from tabpy) (6.138.15)\n",
      "Requirement already satisfied: jsonschema in /home/codespace/.local/lib/python3.12/site-packages (from tabpy) (4.24.0)\n",
      "Requirement already satisfied: mock in /usr/local/python/3.12.1/lib/python3.12/site-packages (from tabpy) (5.2.0)\n",
      "Requirement already satisfied: nltk in /usr/local/python/3.12.1/lib/python3.12/site-packages (from tabpy) (3.9.1)\n",
      "Requirement already satisfied: numpy in /home/codespace/.local/lib/python3.12/site-packages (from tabpy) (2.3.1)\n",
      "Requirement already satisfied: pandas in /home/codespace/.local/lib/python3.12/site-packages (from tabpy) (2.3.1)\n",
      "Requirement already satisfied: pyopenssl in /usr/local/python/3.12.1/lib/python3.12/site-packages (from tabpy) (25.1.0)\n",
      "Requirement already satisfied: pytest in /usr/local/python/3.12.1/lib/python3.12/site-packages (from tabpy) (8.4.2)\n",
      "Requirement already satisfied: pytest-cov in /usr/local/python/3.12.1/lib/python3.12/site-packages (from tabpy) (7.0.0)\n",
      "Requirement already satisfied: requests in /home/codespace/.local/lib/python3.12/site-packages (from tabpy) (2.32.4)\n",
      "Requirement already satisfied: scipy in /home/codespace/.local/lib/python3.12/site-packages (from tabpy) (1.16.0)\n",
      "Requirement already satisfied: simplejson in /usr/local/python/3.12.1/lib/python3.12/site-packages (from tabpy) (3.20.1)\n",
      "Requirement already satisfied: scikit-learn in /home/codespace/.local/lib/python3.12/site-packages (from tabpy) (1.7.0)\n",
      "Requirement already satisfied: textblob in /usr/local/python/3.12.1/lib/python3.12/site-packages (from tabpy) (0.19.0)\n",
      "Requirement already satisfied: tornado in /home/codespace/.local/lib/python3.12/site-packages (from tabpy) (6.5.1)\n",
      "Requirement already satisfied: twisted in /usr/local/python/3.12.1/lib/python3.12/site-packages (from tabpy) (25.5.0)\n",
      "Requirement already satisfied: urllib3 in /home/codespace/.local/lib/python3.12/site-packages (from tabpy) (2.5.0)\n",
      "Requirement already satisfied: pyarrow in /usr/local/python/3.12.1/lib/python3.12/site-packages (from tabpy) (21.0.0)\n",
      "Requirement already satisfied: charset_normalizer<4,>=2 in /home/codespace/.local/lib/python3.12/site-packages (from requests->tabpy) (3.4.2)\n",
      "Requirement already satisfied: idna<4,>=2.5 in /home/codespace/.local/lib/python3.12/site-packages (from requests->tabpy) (3.10)\n",
      "Requirement already satisfied: certifi>=2017.4.17 in /home/codespace/.local/lib/python3.12/site-packages (from requests->tabpy) (2025.7.9)\n",
      "Requirement already satisfied: attrs>=22.2.0 in /home/codespace/.local/lib/python3.12/site-packages (from hypothesis->tabpy) (25.3.0)\n",
      "Requirement already satisfied: sortedcontainers<3.0.0,>=2.1.0 in /usr/local/python/3.12.1/lib/python3.12/site-packages (from hypothesis->tabpy) (2.4.0)\n",
      "Requirement already satisfied: jsonschema-specifications>=2023.03.6 in /home/codespace/.local/lib/python3.12/site-packages (from jsonschema->tabpy) (2025.4.1)\n",
      "Requirement already satisfied: referencing>=0.28.4 in /home/codespace/.local/lib/python3.12/site-packages (from jsonschema->tabpy) (0.36.2)\n",
      "Requirement already satisfied: rpds-py>=0.7.1 in /home/codespace/.local/lib/python3.12/site-packages (from jsonschema->tabpy) (0.26.0)\n",
      "Requirement already satisfied: typing-extensions>=4.4.0 in /home/codespace/.local/lib/python3.12/site-packages (from referencing>=0.28.4->jsonschema->tabpy) (4.14.1)\n",
      "Requirement already satisfied: click in /usr/local/python/3.12.1/lib/python3.12/site-packages (from nltk->tabpy) (8.2.1)\n",
      "Requirement already satisfied: joblib in /home/codespace/.local/lib/python3.12/site-packages (from nltk->tabpy) (1.5.1)\n",
      "Requirement already satisfied: regex>=2021.8.3 in /usr/local/python/3.12.1/lib/python3.12/site-packages (from nltk->tabpy) (2025.9.1)\n",
      "Requirement already satisfied: tqdm in /usr/local/python/3.12.1/lib/python3.12/site-packages (from nltk->tabpy) (4.67.1)\n",
      "Requirement already satisfied: python-dateutil>=2.8.2 in /home/codespace/.local/lib/python3.12/site-packages (from pandas->tabpy) (2.9.0.post0)\n",
      "Requirement already satisfied: pytz>=2020.1 in /home/codespace/.local/lib/python3.12/site-packages (from pandas->tabpy) (2025.2)\n",
      "Requirement already satisfied: tzdata>=2022.7 in /home/codespace/.local/lib/python3.12/site-packages (from pandas->tabpy) (2025.2)\n",
      "Requirement already satisfied: six>=1.5 in /home/codespace/.local/lib/python3.12/site-packages (from python-dateutil>=2.8.2->pandas->tabpy) (1.17.0)\n",
      "Requirement already satisfied: cryptography<46,>=41.0.5 in /usr/local/python/3.12.1/lib/python3.12/site-packages (from pyopenssl->tabpy) (45.0.7)\n",
      "Requirement already satisfied: cffi>=1.14 in /home/codespace/.local/lib/python3.12/site-packages (from cryptography<46,>=41.0.5->pyopenssl->tabpy) (1.17.1)\n",
      "Requirement already satisfied: pycparser in /home/codespace/.local/lib/python3.12/site-packages (from cffi>=1.14->cryptography<46,>=41.0.5->pyopenssl->tabpy) (2.22)\n",
      "Requirement already satisfied: iniconfig>=1 in /usr/local/python/3.12.1/lib/python3.12/site-packages (from pytest->tabpy) (2.1.0)\n",
      "Requirement already satisfied: packaging>=20 in /home/codespace/.local/lib/python3.12/site-packages (from pytest->tabpy) (25.0)\n",
      "Requirement already satisfied: pluggy<2,>=1.5 in /usr/local/python/3.12.1/lib/python3.12/site-packages (from pytest->tabpy) (1.6.0)\n",
      "Requirement already satisfied: pygments>=2.7.2 in /home/codespace/.local/lib/python3.12/site-packages (from pytest->tabpy) (2.19.2)\n",
      "Requirement already satisfied: threadpoolctl>=3.1.0 in /home/codespace/.local/lib/python3.12/site-packages (from scikit-learn->tabpy) (3.6.0)\n",
      "Requirement already satisfied: automat>=24.8.0 in /usr/local/python/3.12.1/lib/python3.12/site-packages (from twisted->tabpy) (25.4.16)\n",
      "Requirement already satisfied: constantly>=15.1 in /usr/local/python/3.12.1/lib/python3.12/site-packages (from twisted->tabpy) (23.10.4)\n",
      "Requirement already satisfied: hyperlink>=17.1.1 in /usr/local/python/3.12.1/lib/python3.12/site-packages (from twisted->tabpy) (21.0.0)\n",
      "Requirement already satisfied: incremental>=24.7.0 in /usr/local/python/3.12.1/lib/python3.12/site-packages (from twisted->tabpy) (24.7.2)\n",
      "Requirement already satisfied: zope-interface>=5 in /usr/local/python/3.12.1/lib/python3.12/site-packages (from twisted->tabpy) (7.2)\n",
      "Requirement already satisfied: setuptools>=61.0 in /home/codespace/.local/lib/python3.12/site-packages (from incremental>=24.7.0->twisted->tabpy) (80.9.0)\n",
      "\n",
      "\u001b[1m[\u001b[0m\u001b[34;49mnotice\u001b[0m\u001b[1;39;49m]\u001b[0m\u001b[39;49m A new release of pip is available: \u001b[0m\u001b[31;49m25.1.1\u001b[0m\u001b[39;49m -> \u001b[0m\u001b[32;49m25.2\u001b[0m\n",
      "\u001b[1m[\u001b[0m\u001b[34;49mnotice\u001b[0m\u001b[1;39;49m]\u001b[0m\u001b[39;49m To update, run: \u001b[0m\u001b[32;49mpython3 -m pip install --upgrade pip\u001b[0m\n"
     ]
    }
   ],
   "source": [
    "#Install Tabpy for python and Tableau integration\n",
    "!pip install tabpy"
   ]
  },
  {
   "cell_type": "code",
   "execution_count": null,
   "id": "17ee4809",
   "metadata": {},
   "outputs": [],
   "source": []
  }
 ],
 "metadata": {
  "kernelspec": {
   "display_name": "Python 3",
   "language": "python",
   "name": "python3"
  },
  "language_info": {
   "codemirror_mode": {
    "name": "ipython",
    "version": 3
   },
   "file_extension": ".py",
   "mimetype": "text/x-python",
   "name": "python",
   "nbconvert_exporter": "python",
   "pygments_lexer": "ipython3",
   "version": "3.12.1"
  }
 },
 "nbformat": 4,
 "nbformat_minor": 5
}
